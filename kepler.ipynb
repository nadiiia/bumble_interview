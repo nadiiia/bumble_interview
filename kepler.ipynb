{
 "cells": [
  {
   "cell_type": "code",
   "execution_count": 29,
   "id": "b4de320b",
   "metadata": {},
   "outputs": [],
   "source": [
    "import pandas as pd\n",
    "from keplergl import KeplerGl\n",
    "import geopandas as gpd"
   ]
  },
  {
   "cell_type": "markdown",
   "id": "e9916a01",
   "metadata": {},
   "source": [
    "\n",
    "#loading provided dataset\n",
    "df = pd.read_excel('./US Census Dataset.csv')\n",
    "df.head()\n"
   ]
  },
  {
   "cell_type": "code",
   "execution_count": 45,
   "id": "135175fa",
   "metadata": {},
   "outputs": [
    {
     "name": "stdout",
     "output_type": "stream",
     "text": [
      "User Guide: https://docs.kepler.gl/docs/keplergl-jupyter\n"
     ]
    }
   ],
   "source": [
    "#Create a basemap \n",
    "map = KeplerGl(height=600, width=800)#show the map\n",
    "#map"
   ]
  },
  {
   "cell_type": "markdown",
   "id": "c342abe9",
   "metadata": {},
   "source": [
    "with open('us_census_dataset.csv', 'r') as f:\n",
    "    csvData = f.read()\n",
    "map.add_data(data=csvData, name='data_2')"
   ]
  },
  {
   "cell_type": "code",
   "execution_count": 46,
   "id": "7403bdaa",
   "metadata": {},
   "outputs": [],
   "source": [
    "with open('austin.csv', 'r') as f:\n",
    "    csvData = f.read( )\n",
    "map.add_data(data=csvData, name='census')"
   ]
  },
  {
   "cell_type": "code",
   "execution_count": 47,
   "id": "1f4b488f",
   "metadata": {},
   "outputs": [
    {
     "data": {
      "application/vnd.jupyter.widget-view+json": {
       "model_id": "8d3330b4a36849cdb026e3756b8db9b7",
       "version_major": 2,
       "version_minor": 0
      },
      "text/plain": [
       "KeplerGl(data={'census': 'WKT,gini_index\\n\"POLYGON ((-97.701423 30.281389,-97.703036 30.281153,-97.700329 30.2…"
      ]
     },
     "metadata": {},
     "output_type": "display_data"
    }
   ],
   "source": [
    "map"
   ]
  },
  {
   "cell_type": "code",
   "execution_count": 48,
   "id": "19b9d21a",
   "metadata": {},
   "outputs": [
    {
     "name": "stdout",
     "output_type": "stream",
     "text": [
      "Map saved to kepler_gini.html!\n"
     ]
    }
   ],
   "source": [
    "# this will save map with provided data and config\n",
    "map.save_to_html(data={'data_1': df}, file_name='kepler_gini.html')"
   ]
  },
  {
   "cell_type": "code",
   "execution_count": null,
   "id": "096ebfbc",
   "metadata": {},
   "outputs": [],
   "source": []
  }
 ],
 "metadata": {
  "kernelspec": {
   "display_name": "Python 3 (ipykernel)",
   "language": "python",
   "name": "python3"
  },
  "language_info": {
   "codemirror_mode": {
    "name": "ipython",
    "version": 3
   },
   "file_extension": ".py",
   "mimetype": "text/x-python",
   "name": "python",
   "nbconvert_exporter": "python",
   "pygments_lexer": "ipython3",
   "version": "3.7.11"
  }
 },
 "nbformat": 4,
 "nbformat_minor": 5
}
