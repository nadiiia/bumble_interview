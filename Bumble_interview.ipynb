{
 "cells": [
  {
   "cell_type": "markdown",
   "id": "2fe2d17d",
   "metadata": {},
   "source": [
    "Using the attached dataset, please create a notebook (preferably Python but any tool is allowed) to explore the data in order to answer questions like:\n",
    "+ **How would you make a geo expansion recommendation?**\n",
    "+ **What new columns would you create?**\n",
    "+ **How might clustering analysis help - how would you go about it?**\n",
    "+ **However, use these questions just as a starting point, and feel free to also use your own creativity/inspiration**\n",
    "\n",
    "In the interview process, we'll ask you to take us through your notebook, thought process and the libraries that you've used. A presentation/deck of any kind is not necessary."
   ]
  },
  {
   "cell_type": "code",
   "execution_count": null,
   "id": "b8fbb244",
   "metadata": {},
   "outputs": [],
   "source": [
    "import pandas as pd \n",
    "import seaborn as sns\n",
    "import contextily as ctx\n",
    "\n",
    "import matplotlib.pyplot as plt\n",
    "import geopandas as gpd\n",
    "import folium"
   ]
  },
  {
   "cell_type": "code",
   "execution_count": null,
   "id": "16e7496f",
   "metadata": {},
   "outputs": [],
   "source": [
    "#loading provided dataset\n",
    "df = pd.read_excel('./US Census Dataset.xlsx')\n",
    "df.head()"
   ]
  },
  {
   "cell_type": "code",
   "execution_count": null,
   "id": "0eab4bf6",
   "metadata": {},
   "outputs": [],
   "source": [
    "df.columns"
   ]
  },
  {
   "cell_type": "code",
   "execution_count": null,
   "id": "fa382277",
   "metadata": {},
   "outputs": [],
   "source": [
    "df.info()"
   ]
  },
  {
   "cell_type": "code",
   "execution_count": null,
   "id": "27d7fa5c",
   "metadata": {},
   "outputs": [],
   "source": [
    "#Checking geometry + viz\n",
    "#creating geodataframe"
   ]
  },
  {
   "cell_type": "markdown",
   "id": "947ba448",
   "metadata": {},
   "source": [
    "Creating GeoDataFrame using conventional way throws an error, which indicates that there are issues with WKT\n",
    "\n",
    "```python\n",
    "gdf = gpd.GeoDataFrame(df, geometry=df['geom'])\n",
    "```\n",
    "Looking at the data in QGIS, the assumption that there are extra numbers (or numbers removed from a pair) which distorts geometry\n",
    "<img src=\"./images/qgis_wkt_issue.png\" alt=\"qgis_wkt_issue\" width=\"600\"/>"
   ]
  },
  {
   "cell_type": "code",
   "execution_count": null,
   "id": "8b475458",
   "metadata": {},
   "outputs": [],
   "source": [
    "#Fixing geomertry using shapely\n",
    "from shapely import wkt\n",
    "\n",
    "geom = []\n",
    "\n",
    "for g in df['geom']:\n",
    "    try:\n",
    "        geom.append(wkt.loads(g))\n",
    "    except:\n",
    "        geom.append(None)\n",
    "\n",
    "df['geometry'] = geom"
   ]
  },
  {
   "cell_type": "code",
   "execution_count": null,
   "id": "63c5bc1b",
   "metadata": {},
   "outputs": [],
   "source": [
    "df.head()"
   ]
  },
  {
   "cell_type": "code",
   "execution_count": null,
   "id": "dd021249",
   "metadata": {},
   "outputs": [],
   "source": [
    "#chekcing for empty geometries\n",
    "df[\"geometry\"].isna().sum()"
   ]
  },
  {
   "cell_type": "code",
   "execution_count": null,
   "id": "b979cbd4",
   "metadata": {},
   "outputs": [],
   "source": [
    "df.dropna(subset=['geometry'], inplace=True)"
   ]
  },
  {
   "cell_type": "code",
   "execution_count": null,
   "id": "1198ada5",
   "metadata": {},
   "outputs": [],
   "source": [
    "gdf = gpd.GeoDataFrame(df, geometry=df['geometry'])"
   ]
  },
  {
   "cell_type": "code",
   "execution_count": null,
   "id": "b67a3b4c",
   "metadata": {},
   "outputs": [],
   "source": [
    "#quick check that data looks OK\n",
    "gdf.plot()"
   ]
  },
  {
   "cell_type": "code",
   "execution_count": null,
   "id": "6e530fd0",
   "metadata": {},
   "outputs": [],
   "source": [
    "#CRS check\n",
    "print(gdf.crs)"
   ]
  },
  {
   "cell_type": "code",
   "execution_count": null,
   "id": "9ea401da",
   "metadata": {},
   "outputs": [],
   "source": [
    "#As this data covers US and is US cencus NAD83 or WGS84 coudl be used (differences will not have effect on this scale)\n",
    "# setting CRS to WGS84 to avoid possilbe CRS conversions later if/when adding addtional datasets\n",
    "\n",
    "gdf.set_crs(epsg=4326, inplace=True)\n",
    "gdf.head()"
   ]
  },
  {
   "cell_type": "code",
   "execution_count": null,
   "id": "b1ca8641",
   "metadata": {},
   "outputs": [],
   "source": [
    "#Better visualisaton with some background mapping\n",
    "\n",
    "\n",
    "fig, ax = plt.subplots(figsize=(12,8))\n",
    "\n",
    "# Plot the data\n",
    "#os_data.plot(ax=ax)\n",
    "gdf.plot(color = '#ffcc00',ax=ax)\n",
    "# Add basemap\n",
    "\n",
    "ctx.add_basemap(ax, crs=\"EPSG:4326\", source=ctx.providers.CartoDB.Voyager)"
   ]
  },
  {
   "cell_type": "code",
   "execution_count": null,
   "id": "b43c63ee",
   "metadata": {},
   "outputs": [],
   "source": [
    "#Even better interactive mapping\n",
    "\n",
    "# Stamen Terrain\n",
    "map = folium.Map(location = [30.266666,-97.733330], tiles = \"OpenStreetMap\", zoom_start = 10)"
   ]
  },
  {
   "cell_type": "markdown",
   "id": "b17fb349",
   "metadata": {},
   "source": [
    "for _, r in df.iterrows():\n",
    "    # Without simplifying the representation of each borough,\n",
    "    # the map might not be displayed\n",
    "    sim_geo = gpd.GeoSeries(r['geometry']).simplify(tolerance=0.001)\n",
    "    geo_j = sim_geo.to_json()\n",
    "    geo_j = folium.GeoJson(data=geo_j,style_function=lambda x: {'color': '#ffcc00'})\n",
    "    geo_j.add_to(map)\n",
    "map"
   ]
  },
  {
   "cell_type": "code",
   "execution_count": null,
   "id": "8a29eb5f",
   "metadata": {},
   "outputs": [],
   "source": [
    "\n",
    "# This https://www.statista.com/statistics/310344/us-online-dating-app-site-usage-age/ \n",
    "#suggest that main users off dating apps are \n",
    "# 18 - 44\n"
   ]
  },
  {
   "cell_type": "markdown",
   "id": "1ef9d528",
   "metadata": {},
   "source": [
    "### TO-DO \n",
    "\n",
    "Calculate median age from the  chart using those who either used or is using the dating app.\n",
    "\n",
    "Then it could be used with median age in a data"
   ]
  },
  {
   "cell_type": "code",
   "execution_count": null,
   "id": "ebb3bc1e",
   "metadata": {},
   "outputs": [],
   "source": [
    "#Simplistic way\n",
    "#extract only this age group - this is our target group\n",
    "#check where those people live\n",
    "\n",
    "gdf_18_29 = gdf.loc[(gdf['median_age'] >= 18) & (df['median_age'] <45) ]"
   ]
  },
  {
   "cell_type": "code",
   "execution_count": null,
   "id": "aa9be809",
   "metadata": {},
   "outputs": [],
   "source": [
    "#subselecting above average median income to subselect those who could afford premium features\n",
    "\n",
    "gdf_18_29_high_inc = gdf_18_29.loc[(gdf_18_29['median_income'] >=  gdf_18_29['median_age'].mean()) ]"
   ]
  },
  {
   "cell_type": "code",
   "execution_count": null,
   "id": "41d71e16",
   "metadata": {},
   "outputs": [],
   "source": [
    "print(len(gdf_18_29))\n",
    "print(len(gdf_18_29_high_inc))"
   ]
  },
  {
   "cell_type": "code",
   "execution_count": null,
   "id": "90186bf8",
   "metadata": {},
   "outputs": [],
   "source": [
    "gdf_18_29_high_inc['dominant_ethnic_group'] = gdf_18_29_high_inc[['black_pop', 'hispanic_pop', 'white_pop']].idxmax(axis=1)"
   ]
  },
  {
   "cell_type": "code",
   "execution_count": null,
   "id": "11195258",
   "metadata": {},
   "outputs": [],
   "source": [
    "#minimising dataset by dissolving boundaries based on the value\n",
    "# dissolve the state boundary by region \n",
    "dominant_group = gdf_18_29_high_inc.dissolve(by='dominant_ethnic_group')"
   ]
  },
  {
   "cell_type": "code",
   "execution_count": null,
   "id": "030c87b5",
   "metadata": {},
   "outputs": [],
   "source": [
    " # create the plot\n",
    "fig, ax = plt.subplots(figsize = (10,6))\n",
    "\n",
    "# plot the data \n",
    "dominant_group.reset_index().plot(column = 'dominant_ethnic_group', ax=ax)\n",
    "\n",
    "##TO-DO \n",
    "\n",
    "#ADD LEGEND"
   ]
  },
  {
   "cell_type": "markdown",
   "id": "6d6c5f76",
   "metadata": {},
   "source": [
    "### TO-DO \n",
    "\n",
    "calculate  percent of each ethnic group\n",
    "\n",
    "map highest percent "
   ]
  },
  {
   "cell_type": "markdown",
   "id": "4627bdb3",
   "metadata": {},
   "source": [
    "map the data"
   ]
  }
 ],
 "metadata": {
  "kernelspec": {
   "display_name": "Python 3 (ipykernel)",
   "language": "python",
   "name": "python3"
  },
  "language_info": {
   "codemirror_mode": {
    "name": "ipython",
    "version": 3
   },
   "file_extension": ".py",
   "mimetype": "text/x-python",
   "name": "python",
   "nbconvert_exporter": "python",
   "pygments_lexer": "ipython3",
   "version": "3.7.11"
  }
 },
 "nbformat": 4,
 "nbformat_minor": 5
}
